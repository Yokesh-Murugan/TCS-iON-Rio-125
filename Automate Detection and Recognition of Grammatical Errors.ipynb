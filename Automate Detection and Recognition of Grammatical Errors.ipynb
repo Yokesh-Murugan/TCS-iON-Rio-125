{
 "cells": [
  {
   "cell_type": "code",
   "execution_count": 20,
   "id": "fd146116",
   "metadata": {},
   "outputs": [
    {
     "name": "stdout",
     "output_type": "stream",
     "text": [
      "Collecting happytransformer\n",
      "  Downloading happytransformer-2.4.1-py3-none-any.whl (45 kB)\n",
      "     ---------------------------------------- 45.5/45.5 kB 1.1 MB/s eta 0:00:00\n",
      "Requirement already satisfied: protobuf in c:\\users\\yokes\\anaconda3\\lib\\site-packages (from happytransformer) (4.23.1)\n",
      "Collecting datasets>=1.6.0\n",
      "  Downloading datasets-2.12.0-py3-none-any.whl (474 kB)\n",
      "     -------------------------------------- 474.6/474.6 kB 2.0 MB/s eta 0:00:00\n",
      "Requirement already satisfied: transformers>=4.4.0 in c:\\users\\yokes\\anaconda3\\lib\\site-packages (from happytransformer) (4.24.0)\n",
      "Collecting sentencepiece\n",
      "  Downloading sentencepiece-0.1.99-cp310-cp310-win_amd64.whl (977 kB)\n",
      "     -------------------------------------- 977.5/977.5 kB 2.4 MB/s eta 0:00:00\n",
      "Requirement already satisfied: torch>=1.0 in c:\\users\\yokes\\anaconda3\\lib\\site-packages (from happytransformer) (1.12.1)\n",
      "Requirement already satisfied: tqdm>=4.43 in c:\\users\\yokes\\anaconda3\\lib\\site-packages (from happytransformer) (4.64.1)\n",
      "Collecting huggingface-hub<1.0.0,>=0.11.0\n",
      "  Downloading huggingface_hub-0.14.1-py3-none-any.whl (224 kB)\n",
      "     -------------------------------------- 224.5/224.5 kB 1.7 MB/s eta 0:00:00\n",
      "Requirement already satisfied: pandas in c:\\users\\yokes\\anaconda3\\lib\\site-packages (from datasets>=1.6.0->happytransformer) (1.5.3)\n",
      "Requirement already satisfied: packaging in c:\\users\\yokes\\anaconda3\\lib\\site-packages (from datasets>=1.6.0->happytransformer) (22.0)\n",
      "Collecting responses<0.19\n",
      "  Downloading responses-0.18.0-py3-none-any.whl (38 kB)\n",
      "Collecting pyarrow>=8.0.0\n",
      "  Downloading pyarrow-12.0.0-cp310-cp310-win_amd64.whl (21.5 MB)\n",
      "     ---------------------------------------- 21.5/21.5 MB 2.7 MB/s eta 0:00:00\n",
      "Requirement already satisfied: requests>=2.19.0 in c:\\users\\yokes\\anaconda3\\lib\\site-packages (from datasets>=1.6.0->happytransformer) (2.28.1)\n",
      "Collecting multiprocess\n",
      "  Downloading multiprocess-0.70.14-py310-none-any.whl (134 kB)\n",
      "     -------------------------------------- 134.3/134.3 kB 4.0 MB/s eta 0:00:00\n",
      "Requirement already satisfied: dill<0.3.7,>=0.3.0 in c:\\users\\yokes\\anaconda3\\lib\\site-packages (from datasets>=1.6.0->happytransformer) (0.3.6)\n",
      "Requirement already satisfied: fsspec[http]>=2021.11.1 in c:\\users\\yokes\\anaconda3\\lib\\site-packages (from datasets>=1.6.0->happytransformer) (2022.11.0)\n",
      "Requirement already satisfied: aiohttp in c:\\users\\yokes\\anaconda3\\lib\\site-packages (from datasets>=1.6.0->happytransformer) (3.8.1)\n",
      "Requirement already satisfied: pyyaml>=5.1 in c:\\users\\yokes\\anaconda3\\lib\\site-packages (from datasets>=1.6.0->happytransformer) (6.0)\n",
      "Requirement already satisfied: numpy>=1.17 in c:\\users\\yokes\\anaconda3\\lib\\site-packages (from datasets>=1.6.0->happytransformer) (1.23.5)\n",
      "Collecting xxhash\n",
      "  Downloading xxhash-3.2.0-cp310-cp310-win_amd64.whl (30 kB)\n",
      "Requirement already satisfied: typing_extensions in c:\\users\\yokes\\anaconda3\\lib\\site-packages (from torch>=1.0->happytransformer) (4.4.0)\n",
      "Requirement already satisfied: colorama in c:\\users\\yokes\\anaconda3\\lib\\site-packages (from tqdm>=4.43->happytransformer) (0.4.6)\n",
      "Requirement already satisfied: filelock in c:\\users\\yokes\\anaconda3\\lib\\site-packages (from transformers>=4.4.0->happytransformer) (3.9.0)\n",
      "Requirement already satisfied: regex!=2019.12.17 in c:\\users\\yokes\\anaconda3\\lib\\site-packages (from transformers>=4.4.0->happytransformer) (2022.7.9)\n",
      "Requirement already satisfied: tokenizers!=0.11.3,<0.14,>=0.11.1 in c:\\users\\yokes\\anaconda3\\lib\\site-packages (from transformers>=4.4.0->happytransformer) (0.11.4)\n",
      "Requirement already satisfied: charset-normalizer<3.0,>=2.0 in c:\\users\\yokes\\anaconda3\\lib\\site-packages (from aiohttp->datasets>=1.6.0->happytransformer) (2.0.4)\n",
      "Requirement already satisfied: frozenlist>=1.1.1 in c:\\users\\yokes\\anaconda3\\lib\\site-packages (from aiohttp->datasets>=1.6.0->happytransformer) (1.3.3)\n",
      "Requirement already satisfied: multidict<7.0,>=4.5 in c:\\users\\yokes\\anaconda3\\lib\\site-packages (from aiohttp->datasets>=1.6.0->happytransformer) (6.0.2)\n",
      "Requirement already satisfied: yarl<2.0,>=1.0 in c:\\users\\yokes\\anaconda3\\lib\\site-packages (from aiohttp->datasets>=1.6.0->happytransformer) (1.7.2)\n",
      "Requirement already satisfied: async-timeout<5.0,>=4.0.0a3 in c:\\users\\yokes\\anaconda3\\lib\\site-packages (from aiohttp->datasets>=1.6.0->happytransformer) (4.0.2)\n",
      "Requirement already satisfied: attrs>=17.3.0 in c:\\users\\yokes\\anaconda3\\lib\\site-packages (from aiohttp->datasets>=1.6.0->happytransformer) (22.1.0)\n",
      "Requirement already satisfied: aiosignal>=1.1.2 in c:\\users\\yokes\\anaconda3\\lib\\site-packages (from aiohttp->datasets>=1.6.0->happytransformer) (1.3.1)\n",
      "Requirement already satisfied: urllib3<1.27,>=1.21.1 in c:\\users\\yokes\\anaconda3\\lib\\site-packages (from requests>=2.19.0->datasets>=1.6.0->happytransformer) (1.26.14)\n",
      "Requirement already satisfied: idna<4,>=2.5 in c:\\users\\yokes\\anaconda3\\lib\\site-packages (from requests>=2.19.0->datasets>=1.6.0->happytransformer) (3.4)\n",
      "Requirement already satisfied: certifi>=2017.4.17 in c:\\users\\yokes\\anaconda3\\lib\\site-packages (from requests>=2.19.0->datasets>=1.6.0->happytransformer) (2023.5.7)\n",
      "Requirement already satisfied: python-dateutil>=2.8.1 in c:\\users\\yokes\\anaconda3\\lib\\site-packages (from pandas->datasets>=1.6.0->happytransformer) (2.8.2)\n",
      "Requirement already satisfied: pytz>=2020.1 in c:\\users\\yokes\\anaconda3\\lib\\site-packages (from pandas->datasets>=1.6.0->happytransformer) (2022.7)\n",
      "Requirement already satisfied: six>=1.5 in c:\\users\\yokes\\anaconda3\\lib\\site-packages (from python-dateutil>=2.8.1->pandas->datasets>=1.6.0->happytransformer) (1.16.0)\n",
      "Installing collected packages: sentencepiece, xxhash, pyarrow, multiprocess, responses, huggingface-hub, datasets, happytransformer\n",
      "  Attempting uninstall: huggingface-hub\n",
      "    Found existing installation: huggingface-hub 0.10.1\n",
      "    Uninstalling huggingface-hub-0.10.1:\n",
      "      Successfully uninstalled huggingface-hub-0.10.1\n",
      "Successfully installed datasets-2.12.0 happytransformer-2.4.1 huggingface-hub-0.14.1 multiprocess-0.70.14 pyarrow-12.0.0 responses-0.18.0 sentencepiece-0.1.99 xxhash-3.2.0\n"
     ]
    }
   ],
   "source": [
    "!pip install happytransformer"
   ]
  },
  {
   "cell_type": "code",
   "execution_count": 21,
   "id": "397ec903",
   "metadata": {},
   "outputs": [
    {
     "name": "stdout",
     "output_type": "stream",
     "text": [
      "Requirement already satisfied: spacy in c:\\users\\yokes\\anaconda3\\lib\\site-packages (3.5.3)\n",
      "Requirement already satisfied: pathy>=0.10.0 in c:\\users\\yokes\\anaconda3\\lib\\site-packages (from spacy) (0.10.1)\n",
      "Requirement already satisfied: smart-open<7.0.0,>=5.2.1 in c:\\users\\yokes\\anaconda3\\lib\\site-packages (from spacy) (5.2.1)\n",
      "Requirement already satisfied: jinja2 in c:\\users\\yokes\\anaconda3\\lib\\site-packages (from spacy) (3.1.2)\n",
      "Requirement already satisfied: requests<3.0.0,>=2.13.0 in c:\\users\\yokes\\anaconda3\\lib\\site-packages (from spacy) (2.28.1)\n",
      "Requirement already satisfied: preshed<3.1.0,>=3.0.2 in c:\\users\\yokes\\anaconda3\\lib\\site-packages (from spacy) (3.0.8)\n",
      "Requirement already satisfied: spacy-loggers<2.0.0,>=1.0.0 in c:\\users\\yokes\\anaconda3\\lib\\site-packages (from spacy) (1.0.4)\n",
      "Requirement already satisfied: murmurhash<1.1.0,>=0.28.0 in c:\\users\\yokes\\anaconda3\\lib\\site-packages (from spacy) (1.0.9)\n",
      "Requirement already satisfied: packaging>=20.0 in c:\\users\\yokes\\anaconda3\\lib\\site-packages (from spacy) (22.0)\n",
      "Requirement already satisfied: pydantic!=1.8,!=1.8.1,<1.11.0,>=1.7.4 in c:\\users\\yokes\\anaconda3\\lib\\site-packages (from spacy) (1.10.8)\n",
      "Requirement already satisfied: spacy-legacy<3.1.0,>=3.0.11 in c:\\users\\yokes\\anaconda3\\lib\\site-packages (from spacy) (3.0.12)\n",
      "Requirement already satisfied: setuptools in c:\\users\\yokes\\anaconda3\\lib\\site-packages (from spacy) (65.6.3)\n",
      "Requirement already satisfied: srsly<3.0.0,>=2.4.3 in c:\\users\\yokes\\anaconda3\\lib\\site-packages (from spacy) (2.4.6)\n",
      "Requirement already satisfied: typer<0.8.0,>=0.3.0 in c:\\users\\yokes\\anaconda3\\lib\\site-packages (from spacy) (0.7.0)\n",
      "Requirement already satisfied: cymem<2.1.0,>=2.0.2 in c:\\users\\yokes\\anaconda3\\lib\\site-packages (from spacy) (2.0.7)\n",
      "Requirement already satisfied: numpy>=1.15.0 in c:\\users\\yokes\\anaconda3\\lib\\site-packages (from spacy) (1.23.5)\n",
      "Requirement already satisfied: wasabi<1.2.0,>=0.9.1 in c:\\users\\yokes\\anaconda3\\lib\\site-packages (from spacy) (1.1.1)\n",
      "Requirement already satisfied: langcodes<4.0.0,>=3.2.0 in c:\\users\\yokes\\anaconda3\\lib\\site-packages (from spacy) (3.3.0)\n",
      "Requirement already satisfied: tqdm<5.0.0,>=4.38.0 in c:\\users\\yokes\\anaconda3\\lib\\site-packages (from spacy) (4.64.1)\n",
      "Requirement already satisfied: thinc<8.2.0,>=8.1.8 in c:\\users\\yokes\\anaconda3\\lib\\site-packages (from spacy) (8.1.10)\n",
      "Requirement already satisfied: catalogue<2.1.0,>=2.0.6 in c:\\users\\yokes\\anaconda3\\lib\\site-packages (from spacy) (2.0.8)\n",
      "Requirement already satisfied: typing-extensions>=4.2.0 in c:\\users\\yokes\\anaconda3\\lib\\site-packages (from pydantic!=1.8,!=1.8.1,<1.11.0,>=1.7.4->spacy) (4.4.0)\n",
      "Requirement already satisfied: idna<4,>=2.5 in c:\\users\\yokes\\anaconda3\\lib\\site-packages (from requests<3.0.0,>=2.13.0->spacy) (3.4)\n",
      "Requirement already satisfied: charset-normalizer<3,>=2 in c:\\users\\yokes\\anaconda3\\lib\\site-packages (from requests<3.0.0,>=2.13.0->spacy) (2.0.4)\n",
      "Requirement already satisfied: urllib3<1.27,>=1.21.1 in c:\\users\\yokes\\anaconda3\\lib\\site-packages (from requests<3.0.0,>=2.13.0->spacy) (1.26.14)\n",
      "Requirement already satisfied: certifi>=2017.4.17 in c:\\users\\yokes\\anaconda3\\lib\\site-packages (from requests<3.0.0,>=2.13.0->spacy) (2023.5.7)\n",
      "Requirement already satisfied: confection<1.0.0,>=0.0.1 in c:\\users\\yokes\\anaconda3\\lib\\site-packages (from thinc<8.2.0,>=8.1.8->spacy) (0.0.4)\n",
      "Requirement already satisfied: blis<0.8.0,>=0.7.8 in c:\\users\\yokes\\anaconda3\\lib\\site-packages (from thinc<8.2.0,>=8.1.8->spacy) (0.7.9)\n",
      "Requirement already satisfied: colorama in c:\\users\\yokes\\anaconda3\\lib\\site-packages (from tqdm<5.0.0,>=4.38.0->spacy) (0.4.6)\n",
      "Requirement already satisfied: click<9.0.0,>=7.1.1 in c:\\users\\yokes\\anaconda3\\lib\\site-packages (from typer<0.8.0,>=0.3.0->spacy) (8.0.4)\n",
      "Requirement already satisfied: MarkupSafe>=2.0 in c:\\users\\yokes\\anaconda3\\lib\\site-packages (from jinja2->spacy) (2.1.1)\n"
     ]
    }
   ],
   "source": [
    "!pip install spacy"
   ]
  },
  {
   "cell_type": "code",
   "execution_count": 22,
   "id": "69397a66",
   "metadata": {},
   "outputs": [
    {
     "name": "stdout",
     "output_type": "stream",
     "text": [
      "Requirement already satisfied: datasets in c:\\users\\yokes\\anaconda3\\lib\\site-packages (2.12.0)\n",
      "Requirement already satisfied: numpy>=1.17 in c:\\users\\yokes\\anaconda3\\lib\\site-packages (from datasets) (1.23.5)\n",
      "Requirement already satisfied: tqdm>=4.62.1 in c:\\users\\yokes\\anaconda3\\lib\\site-packages (from datasets) (4.64.1)\n",
      "Requirement already satisfied: fsspec[http]>=2021.11.1 in c:\\users\\yokes\\anaconda3\\lib\\site-packages (from datasets) (2022.11.0)\n",
      "Requirement already satisfied: aiohttp in c:\\users\\yokes\\anaconda3\\lib\\site-packages (from datasets) (3.8.1)\n",
      "Requirement already satisfied: pandas in c:\\users\\yokes\\anaconda3\\lib\\site-packages (from datasets) (1.5.3)\n",
      "Requirement already satisfied: dill<0.3.7,>=0.3.0 in c:\\users\\yokes\\anaconda3\\lib\\site-packages (from datasets) (0.3.6)\n",
      "Requirement already satisfied: huggingface-hub<1.0.0,>=0.11.0 in c:\\users\\yokes\\anaconda3\\lib\\site-packages (from datasets) (0.14.1)\n",
      "Requirement already satisfied: multiprocess in c:\\users\\yokes\\anaconda3\\lib\\site-packages (from datasets) (0.70.14)\n",
      "Requirement already satisfied: xxhash in c:\\users\\yokes\\anaconda3\\lib\\site-packages (from datasets) (3.2.0)\n",
      "Requirement already satisfied: responses<0.19 in c:\\users\\yokes\\anaconda3\\lib\\site-packages (from datasets) (0.18.0)\n",
      "Requirement already satisfied: pyyaml>=5.1 in c:\\users\\yokes\\anaconda3\\lib\\site-packages (from datasets) (6.0)\n",
      "Requirement already satisfied: packaging in c:\\users\\yokes\\anaconda3\\lib\\site-packages (from datasets) (22.0)\n",
      "Requirement already satisfied: requests>=2.19.0 in c:\\users\\yokes\\anaconda3\\lib\\site-packages (from datasets) (2.28.1)\n",
      "Requirement already satisfied: pyarrow>=8.0.0 in c:\\users\\yokes\\anaconda3\\lib\\site-packages (from datasets) (12.0.0)\n",
      "Requirement already satisfied: yarl<2.0,>=1.0 in c:\\users\\yokes\\anaconda3\\lib\\site-packages (from aiohttp->datasets) (1.7.2)\n",
      "Requirement already satisfied: multidict<7.0,>=4.5 in c:\\users\\yokes\\anaconda3\\lib\\site-packages (from aiohttp->datasets) (6.0.2)\n",
      "Requirement already satisfied: frozenlist>=1.1.1 in c:\\users\\yokes\\anaconda3\\lib\\site-packages (from aiohttp->datasets) (1.3.3)\n",
      "Requirement already satisfied: async-timeout<5.0,>=4.0.0a3 in c:\\users\\yokes\\anaconda3\\lib\\site-packages (from aiohttp->datasets) (4.0.2)\n",
      "Requirement already satisfied: aiosignal>=1.1.2 in c:\\users\\yokes\\anaconda3\\lib\\site-packages (from aiohttp->datasets) (1.3.1)\n",
      "Requirement already satisfied: attrs>=17.3.0 in c:\\users\\yokes\\anaconda3\\lib\\site-packages (from aiohttp->datasets) (22.1.0)\n",
      "Requirement already satisfied: charset-normalizer<3.0,>=2.0 in c:\\users\\yokes\\anaconda3\\lib\\site-packages (from aiohttp->datasets) (2.0.4)\n",
      "Requirement already satisfied: filelock in c:\\users\\yokes\\anaconda3\\lib\\site-packages (from huggingface-hub<1.0.0,>=0.11.0->datasets) (3.9.0)\n",
      "Requirement already satisfied: typing-extensions>=3.7.4.3 in c:\\users\\yokes\\anaconda3\\lib\\site-packages (from huggingface-hub<1.0.0,>=0.11.0->datasets) (4.4.0)\n",
      "Requirement already satisfied: urllib3<1.27,>=1.21.1 in c:\\users\\yokes\\anaconda3\\lib\\site-packages (from requests>=2.19.0->datasets) (1.26.14)\n",
      "Requirement already satisfied: idna<4,>=2.5 in c:\\users\\yokes\\anaconda3\\lib\\site-packages (from requests>=2.19.0->datasets) (3.4)\n",
      "Requirement already satisfied: certifi>=2017.4.17 in c:\\users\\yokes\\anaconda3\\lib\\site-packages (from requests>=2.19.0->datasets) (2023.5.7)\n",
      "Requirement already satisfied: colorama in c:\\users\\yokes\\anaconda3\\lib\\site-packages (from tqdm>=4.62.1->datasets) (0.4.6)\n",
      "Requirement already satisfied: pytz>=2020.1 in c:\\users\\yokes\\anaconda3\\lib\\site-packages (from pandas->datasets) (2022.7)\n",
      "Requirement already satisfied: python-dateutil>=2.8.1 in c:\\users\\yokes\\anaconda3\\lib\\site-packages (from pandas->datasets) (2.8.2)\n",
      "Requirement already satisfied: six>=1.5 in c:\\users\\yokes\\anaconda3\\lib\\site-packages (from python-dateutil>=2.8.1->pandas->datasets) (1.16.0)\n"
     ]
    }
   ],
   "source": [
    "!pip install datasets"
   ]
  },
  {
   "cell_type": "code",
   "execution_count": null,
   "id": "8489f224",
   "metadata": {},
   "outputs": [],
   "source": []
  }
 ],
 "metadata": {
  "kernelspec": {
   "display_name": "Python 3 (ipykernel)",
   "language": "python",
   "name": "python3"
  },
  "language_info": {
   "codemirror_mode": {
    "name": "ipython",
    "version": 3
   },
   "file_extension": ".py",
   "mimetype": "text/x-python",
   "name": "python",
   "nbconvert_exporter": "python",
   "pygments_lexer": "ipython3",
   "version": "3.10.9"
  }
 },
 "nbformat": 4,
 "nbformat_minor": 5
}
